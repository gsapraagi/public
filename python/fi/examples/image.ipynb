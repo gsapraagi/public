{
 "cells": [
  {
   "cell_type": "code",
   "execution_count": 1,
   "metadata": {},
   "outputs": [],
   "source": [
    "\n",
    "import sys\n",
    "sys.path.append(\"../../\")\n",
    "\n",
    "from fi.client import Client"
   ]
  },
  {
   "cell_type": "code",
   "execution_count": 2,
   "metadata": {},
   "outputs": [],
   "source": [
    "fi_client = Client(\n",
    "  api_key=\"f176088f0e794ac7ac38d65bab1687c7\",\n",
    "  secret_key=\"e2d4553e16f34b07ab18b7d50b382f81\"\n",
    ")"
   ]
  },
  {
   "cell_type": "code",
   "execution_count": 3,
   "metadata": {},
   "outputs": [],
   "source": [
    "from fi.client import ModelTypes, Environments\n",
    "import uuid\n",
    "import time"
   ]
  },
  {
   "cell_type": "code",
   "execution_count": 8,
   "metadata": {},
   "outputs": [
    {
     "data": {
      "text/plain": [
       "<Response [500]>"
      ]
     },
     "execution_count": 8,
     "metadata": {},
     "output_type": "execute_result"
    }
   ],
   "source": [
    "fi_client.log(\n",
    "  \"my-first-model\",\n",
    "  ModelTypes.GENERATIVE_LLM,\n",
    "  Environments.PRODUCTION,\n",
    "  \"v1\",\n",
    "  str(uuid.uuid4()),\n",
    "  int(time.time()),\n",
    "  None,\n",
    "  None,\n",
    "  {\n",
    "    \"chat_history\": [\n",
    "      {\"role\": \"user\", \"content\": [\n",
    "        {\"\"}\n",
    "      ]},\n",
    "      {\"role\": \"assistant\", \"content\": \"To implement a neural network in Python, you can use libraries like TensorFlow or PyTorch. Here’s a simple example using PyTorch...\"}\n",
    "    ]\n",
    "  }\n",
    ").result()"
   ]
  },
  {
   "cell_type": "code",
   "execution_count": null,
   "metadata": {},
   "outputs": [],
   "source": []
  }
 ],
 "metadata": {
  "kernelspec": {
   "display_name": "base",
   "language": "python",
   "name": "python3"
  },
  "language_info": {
   "codemirror_mode": {
    "name": "ipython",
    "version": 3
   },
   "file_extension": ".py",
   "mimetype": "text/x-python",
   "name": "python",
   "nbconvert_exporter": "python",
   "pygments_lexer": "ipython3",
   "version": "3.11.5"
  }
 },
 "nbformat": 4,
 "nbformat_minor": 2
}
